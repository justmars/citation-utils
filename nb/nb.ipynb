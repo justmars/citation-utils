{
 "cells": [
  {
   "cell_type": "code",
   "execution_count": null,
   "metadata": {},
   "outputs": [],
   "source": [
    "from citation_report import Report\n",
    "\n",
    "from citation_utils import (\n",
    "    CitableDocument,\n",
    "    CitationAC,\n",
    "    CitationAM,\n",
    "    CitationBM,\n",
    "    CitationGR,\n",
    "    CitationJIB,\n",
    "    CitationOCA,\n",
    "    CitationPET,\n",
    "    CitationUDK,\n",
    "    extract_docket_meta,\n",
    ")\n",
    "from citation_utils.citation import Citation, CountedCitation\n",
    "\n",
    "text = \"\"\"374 Phil. 1, 10-11 (1999) 1111 SCRA 1111; G.R. No. 147033, April 30, 2003; G.R. No. 147033, April 30, 2003, 374 Phil. 1, 600; ABC v. XYZ, G.R. Nos. 138570, 138572, 138587, 138680, 138698, October 10, 2000, 342 SCRA 449;  XXX, G.R. No. 31711, Sept. 30, 1971, 35 SCRA 190; Hello World, 1111 SCRA 1111; Y v. Z, 35 SCRA 190; 1 Off. Gaz. 41 Bar Matter No. 803, Jan. 1, 2000 Bar Matter No. 411, Feb. 1, 2000 Bar Matter No. 412, Jan. 1, 2000, 1111 SCRA 1111; 374 Phil. 1'\"\"\"  # noqa: E501\n",
    "text2 = \"\"\"\n",
    "<em>Gatchalian Promotions Talent Pool, Inc. v. Atty. Naldoza</em>,\n",
    "  374 Phil. 1, 10-11 (1999), citing: <em>In re Almacen</em>, 31 SCRA 562, 600\n",
    "  (1970).; People v. Umayam, G.R. No. 147033, April 30, 2003;\n",
    "  <i>Bagong Alyansang Makabayan v. Zamora,</i> G.R. Nos. 138570, 138572,\n",
    "  138587, 138680, 138698, October 10, 2000, 342 SCRA 449; Villegas <em>v.</em>\n",
    "  Subido, G.R. No. 31711, Sept. 30, 1971, 41 SCRA 190;\"\"\"  # noqa: E501\n",
    "# list(CitableDocument.get_docketed_reports(text))"
   ]
  },
  {
   "cell_type": "code",
   "execution_count": null,
   "metadata": {},
   "outputs": [],
   "source": [
    "text = \"OCA IPI No. 10-3450-P, Feb. 06, 2008\""
   ]
  },
  {
   "cell_type": "code",
   "execution_count": null,
   "metadata": {},
   "outputs": [],
   "source": [
    "cite = Citation.extract_citation(text)\n",
    "if cite is not None:\n",
    "    cite.model_dump_json()"
   ]
  },
  {
   "cell_type": "code",
   "execution_count": null,
   "metadata": {},
   "outputs": [],
   "source": [
    "text_a = next(CitableDocument(text).get_citations())\n",
    "text_a, type(text_a)"
   ]
  },
  {
   "cell_type": "code",
   "execution_count": null,
   "metadata": {},
   "outputs": [],
   "source": [
    "next(CitationOCA.search(text_a))"
   ]
  },
  {
   "cell_type": "code",
   "execution_count": null,
   "metadata": {},
   "outputs": [],
   "source": [
    "res = next(CitableDocument.get_docketed_reports(text_a))\n",
    "res"
   ]
  },
  {
   "cell_type": "code",
   "execution_count": null,
   "metadata": {},
   "outputs": [],
   "source": [
    "Citation._set_docket_report(text_a)"
   ]
  },
  {
   "cell_type": "code",
   "execution_count": null,
   "metadata": {},
   "outputs": [],
   "source": [
    "list(Citation.extract_citations(\"OCA IPI No. 10-3450-P, Feb. 06, 2008\"))"
   ]
  },
  {
   "cell_type": "code",
   "execution_count": null,
   "metadata": {},
   "outputs": [],
   "source": [
    "x = list(CountedCitation.from_source(text))\n",
    "x"
   ]
  },
  {
   "cell_type": "code",
   "execution_count": null,
   "metadata": {},
   "outputs": [],
   "source": [
    "a = CountedCitation.counted_docket_reports(text)\n",
    "a"
   ]
  },
  {
   "cell_type": "code",
   "execution_count": null,
   "metadata": {},
   "outputs": [],
   "source": [
    "b = CountedCitation.counted_reports(text)\n",
    "b"
   ]
  },
  {
   "cell_type": "code",
   "execution_count": null,
   "metadata": {},
   "outputs": [],
   "source": [
    "c = CountedCitation.from_source(text)\n",
    "c"
   ]
  },
  {
   "cell_type": "code",
   "execution_count": null,
   "metadata": {},
   "outputs": [],
   "source": [
    "repr_texts = [\n",
    "    \"BM No. 412, Jan 01, 2000, 1111 SCRA 1111: 3\",\n",
    "    \"GR No. 147033, Apr 30, 2003, 374 Phil. 1: 3\",\n",
    "]\n",
    "text = repr_texts[0]\n",
    "counted_bits = text.split(\":\")\n",
    "CountedCitation.extract_citation(counted_bits[0].strip())"
   ]
  }
 ],
 "metadata": {
  "kernelspec": {
   "display_name": ".venv",
   "language": "python",
   "name": "python3"
  },
  "language_info": {
   "codemirror_mode": {
    "name": "ipython",
    "version": 3
   },
   "file_extension": ".py",
   "mimetype": "text/x-python",
   "name": "python",
   "nbconvert_exporter": "python",
   "pygments_lexer": "ipython3",
   "version": "3.13.3"
  }
 },
 "nbformat": 4,
 "nbformat_minor": 2
}
